{
 "cells": [
  {
   "cell_type": "code",
   "execution_count": 153,
   "metadata": {},
   "outputs": [],
   "source": [
    "import numpy as np\n",
    "import pandas as pd\n",
    "from sklearn.model_selection import train_test_split, cross_val_score\n",
    "from sklearn.metrics import accuracy_score, mean_squared_error, roc_auc_score\n",
    "from sklearn.preprocessing import OneHotEncoder\n",
    "from sklearn.tree import DecisionTreeClassifier, DecisionTreeRegressor\n",
    "from sklearn.ensemble import BaggingClassifier, RandomForestRegressor, RandomForestClassifier, GradientBoostingRegressor\n",
    "import matplotlib.pyplot as plt\n",
    "import seaborn as sns"
   ]
  },
  {
   "cell_type": "code",
   "execution_count": 4,
   "metadata": {},
   "outputs": [],
   "source": [
    "# Variables\n",
    "raw_data_root = './data'\n",
    "max_features_to_explore = 40\n",
    "random_seed = 77"
   ]
  },
  {
   "cell_type": "code",
   "execution_count": 3,
   "metadata": {},
   "outputs": [
    {
     "data": {
      "text/html": [
       "<div>\n",
       "<style scoped>\n",
       "    .dataframe tbody tr th:only-of-type {\n",
       "        vertical-align: middle;\n",
       "    }\n",
       "\n",
       "    .dataframe tbody tr th {\n",
       "        vertical-align: top;\n",
       "    }\n",
       "\n",
       "    .dataframe thead th {\n",
       "        text-align: right;\n",
       "    }\n",
       "</style>\n",
       "<table border=\"1\" class=\"dataframe\">\n",
       "  <thead>\n",
       "    <tr style=\"text-align: right;\">\n",
       "      <th></th>\n",
       "      <th>company</th>\n",
       "      <th>price_rupiah</th>\n",
       "      <th>diameter</th>\n",
       "      <th>topping</th>\n",
       "      <th>variant</th>\n",
       "      <th>size</th>\n",
       "      <th>extra_sauce</th>\n",
       "      <th>extra_cheese</th>\n",
       "    </tr>\n",
       "  </thead>\n",
       "  <tbody>\n",
       "    <tr>\n",
       "      <th>0</th>\n",
       "      <td>A</td>\n",
       "      <td>Rp235,000</td>\n",
       "      <td>22.0</td>\n",
       "      <td>chicken</td>\n",
       "      <td>double_signature</td>\n",
       "      <td>jumbo</td>\n",
       "      <td>yes</td>\n",
       "      <td>yes</td>\n",
       "    </tr>\n",
       "    <tr>\n",
       "      <th>1</th>\n",
       "      <td>A</td>\n",
       "      <td>Rp198,000</td>\n",
       "      <td>20.0</td>\n",
       "      <td>papperoni</td>\n",
       "      <td>double_signature</td>\n",
       "      <td>jumbo</td>\n",
       "      <td>yes</td>\n",
       "      <td>yes</td>\n",
       "    </tr>\n",
       "    <tr>\n",
       "      <th>2</th>\n",
       "      <td>A</td>\n",
       "      <td>Rp120,000</td>\n",
       "      <td>16.0</td>\n",
       "      <td>mushrooms</td>\n",
       "      <td>double_signature</td>\n",
       "      <td>reguler</td>\n",
       "      <td>yes</td>\n",
       "      <td>yes</td>\n",
       "    </tr>\n",
       "    <tr>\n",
       "      <th>3</th>\n",
       "      <td>A</td>\n",
       "      <td>Rp155,000</td>\n",
       "      <td>14.0</td>\n",
       "      <td>smoked beef</td>\n",
       "      <td>double_signature</td>\n",
       "      <td>reguler</td>\n",
       "      <td>yes</td>\n",
       "      <td>no</td>\n",
       "    </tr>\n",
       "    <tr>\n",
       "      <th>4</th>\n",
       "      <td>A</td>\n",
       "      <td>Rp248,000</td>\n",
       "      <td>18.0</td>\n",
       "      <td>mozzarella</td>\n",
       "      <td>double_signature</td>\n",
       "      <td>jumbo</td>\n",
       "      <td>yes</td>\n",
       "      <td>no</td>\n",
       "    </tr>\n",
       "    <tr>\n",
       "      <th>...</th>\n",
       "      <td>...</td>\n",
       "      <td>...</td>\n",
       "      <td>...</td>\n",
       "      <td>...</td>\n",
       "      <td>...</td>\n",
       "      <td>...</td>\n",
       "      <td>...</td>\n",
       "      <td>...</td>\n",
       "    </tr>\n",
       "    <tr>\n",
       "      <th>124</th>\n",
       "      <td>E</td>\n",
       "      <td>Rp39,000</td>\n",
       "      <td>8.5</td>\n",
       "      <td>tuna</td>\n",
       "      <td>spicy tuna</td>\n",
       "      <td>small</td>\n",
       "      <td>yes</td>\n",
       "      <td>yes</td>\n",
       "    </tr>\n",
       "    <tr>\n",
       "      <th>125</th>\n",
       "      <td>E</td>\n",
       "      <td>Rp72,000</td>\n",
       "      <td>12.0</td>\n",
       "      <td>tuna</td>\n",
       "      <td>spicy tuna</td>\n",
       "      <td>medium</td>\n",
       "      <td>yes</td>\n",
       "      <td>yes</td>\n",
       "    </tr>\n",
       "    <tr>\n",
       "      <th>126</th>\n",
       "      <td>E</td>\n",
       "      <td>Rp99,000</td>\n",
       "      <td>14.0</td>\n",
       "      <td>tuna</td>\n",
       "      <td>spicy tuna</td>\n",
       "      <td>large</td>\n",
       "      <td>yes</td>\n",
       "      <td>yes</td>\n",
       "    </tr>\n",
       "    <tr>\n",
       "      <th>127</th>\n",
       "      <td>E</td>\n",
       "      <td>Rp44,000</td>\n",
       "      <td>8.5</td>\n",
       "      <td>meat</td>\n",
       "      <td>BBQ_meat_fiesta</td>\n",
       "      <td>small</td>\n",
       "      <td>yes</td>\n",
       "      <td>no</td>\n",
       "    </tr>\n",
       "    <tr>\n",
       "      <th>128</th>\n",
       "      <td>E</td>\n",
       "      <td>Rp78,000</td>\n",
       "      <td>12.0</td>\n",
       "      <td>meat</td>\n",
       "      <td>BBQ_meat_fiesta</td>\n",
       "      <td>medium</td>\n",
       "      <td>no</td>\n",
       "      <td>no</td>\n",
       "    </tr>\n",
       "  </tbody>\n",
       "</table>\n",
       "<p>129 rows × 8 columns</p>\n",
       "</div>"
      ],
      "text/plain": [
       "    company price_rupiah  diameter      topping           variant     size  \\\n",
       "0         A    Rp235,000      22.0      chicken  double_signature    jumbo   \n",
       "1         A    Rp198,000      20.0    papperoni  double_signature    jumbo   \n",
       "2         A    Rp120,000      16.0    mushrooms  double_signature  reguler   \n",
       "3         A    Rp155,000      14.0  smoked beef  double_signature  reguler   \n",
       "4         A    Rp248,000      18.0   mozzarella  double_signature    jumbo   \n",
       "..      ...          ...       ...          ...               ...      ...   \n",
       "124       E     Rp39,000       8.5         tuna        spicy tuna    small   \n",
       "125       E     Rp72,000      12.0         tuna        spicy tuna   medium   \n",
       "126       E     Rp99,000      14.0         tuna        spicy tuna    large   \n",
       "127       E     Rp44,000       8.5         meat   BBQ_meat_fiesta    small   \n",
       "128       E     Rp78,000      12.0         meat   BBQ_meat_fiesta   medium   \n",
       "\n",
       "    extra_sauce extra_cheese  \n",
       "0           yes          yes  \n",
       "1           yes          yes  \n",
       "2           yes          yes  \n",
       "3           yes           no  \n",
       "4           yes           no  \n",
       "..          ...          ...  \n",
       "124         yes          yes  \n",
       "125         yes          yes  \n",
       "126         yes          yes  \n",
       "127         yes           no  \n",
       "128          no           no  \n",
       "\n",
       "[129 rows x 8 columns]"
      ]
     },
     "execution_count": 3,
     "metadata": {},
     "output_type": "execute_result"
    }
   ],
   "source": [
    "raw_data = pd.read_csv('data/pizza_v1.csv')\n",
    "raw_data"
   ]
  },
  {
   "cell_type": "code",
   "execution_count": 32,
   "metadata": {},
   "outputs": [],
   "source": [
    "\n",
    "categorical_features = ['company', 'topping', 'variant', 'size', 'extra_sauce', 'extra_cheese']\n",
    "enc = OneHotEncoder(drop='first')\n",
    "X_data = pd.DataFrame(\n",
    "    enc.fit_transform( raw_data[categorical_features] ).toarray(),\n",
    "    columns = enc.get_feature_names_out()\n",
    ")\n",
    "numerical_features = ['diameter']\n",
    "X_data[numerical_features] = raw_data[numerical_features]\n"
   ]
  },
  {
   "cell_type": "code",
   "execution_count": 33,
   "metadata": {},
   "outputs": [
    {
     "data": {
      "text/plain": [
       "Index(['company_B', 'company_C', 'company_D', 'company_E',\n",
       "       'topping_black papper', 'topping_chicken', 'topping_meat',\n",
       "       'topping_mozzarella', 'topping_mushrooms', 'topping_onion',\n",
       "       'topping_papperoni', 'topping_sausage', 'topping_smoked beef',\n",
       "       'topping_tuna', 'topping_vegetables', 'variant_BBQ_sausage',\n",
       "       'variant_american_classic', 'variant_american_favorite',\n",
       "       'variant_classic', 'variant_crunchy', 'variant_double_decker',\n",
       "       'variant_double_mix', 'variant_double_signature',\n",
       "       'variant_extravaganza', 'variant_gournet_greek',\n",
       "       'variant_italian_veggie', 'variant_meat_eater', 'variant_meat_lovers',\n",
       "       'variant_neptune_tuna', 'variant_new_york', 'variant_spicy tuna',\n",
       "       'variant_spicy_tuna', 'variant_super_supreme', 'variant_thai_veggie',\n",
       "       'size_jumbo', 'size_large', 'size_medium', 'size_reguler', 'size_small',\n",
       "       'extra_sauce_yes', 'extra_cheese_yes', 'diameter'],\n",
       "      dtype='object')"
      ]
     },
     "execution_count": 33,
     "metadata": {},
     "output_type": "execute_result"
    }
   ],
   "source": [
    "X_data.columns"
   ]
  },
  {
   "cell_type": "code",
   "execution_count": 115,
   "metadata": {},
   "outputs": [],
   "source": [
    "price_usd  = raw_data['price_rupiah'].apply(lambda x :\n",
    "    round( int( x[2:].replace(',', '')) / 14078.56, 2)\n",
    ")\n",
    "y_data = np.vectorize( lambda x : 1 if (x>10) else 0 \n",
    "    )(price_usd.to_numpy())\n",
    "# y_data = price_usd\n"
   ]
  },
  {
   "cell_type": "code",
   "execution_count": 116,
   "metadata": {},
   "outputs": [],
   "source": [
    "X_train, X_test, y_train, y_test = train_test_split( \n",
    "    X_data, y_data,\n",
    "     \n",
    "    random_state=random_seed)"
   ]
  },
  {
   "cell_type": "markdown",
   "metadata": {},
   "source": [
    "## Classification"
   ]
  },
  {
   "cell_type": "code",
   "execution_count": 117,
   "metadata": {},
   "outputs": [],
   "source": [
    "\n",
    "\n",
    "model = DecisionTreeClassifier(\n",
    "    random_state = random_seed\n",
    ")\n",
    "model.fit(X_train, y_train)\n",
    "y_pred = model.predict(X_test)"
   ]
  },
  {
   "cell_type": "code",
   "execution_count": 129,
   "metadata": {},
   "outputs": [],
   "source": [
    "\n",
    "\n",
    "ensemble = BaggingClassifier(\n",
    "    base_estimator=model,\n",
    "    n_estimators = 50,\n",
    "    random_state = random_seed,\n",
    "    oob_score=True,\n",
    ")"
   ]
  },
  {
   "cell_type": "code",
   "execution_count": 130,
   "metadata": {},
   "outputs": [
    {
     "data": {
      "text/plain": [
       "<matplotlib.legend.Legend at 0x15d7988f5e0>"
      ]
     },
     "execution_count": 130,
     "metadata": {},
     "output_type": "execute_result"
    },
    {
     "data": {
      "image/png": "[encoded data removed]",
      "text/plain": [
       "<Figure size 432x288 with 1 Axes>"
      ]
     },
     "metadata": {
      "needs_background": "light"
     },
     "output_type": "display_data"
    }
   ],
   "source": [
    "scores = cross_val_score(\n",
    "    estimator = ensemble,\n",
    "    X = X_train,\n",
    "    y = y_train,\n",
    "    cv = 10,\n",
    "    scoring = 'accuracy'\n",
    ")\n",
    "\n",
    "\n",
    "plt.xlabel('fold')\n",
    "plt.ylabel('accuracy')\n",
    "plt.plot(scores, '.', label='scores', ms=10)\n",
    "mean = np.mean(scores)\n",
    "plt.axhline( label=f'mean {mean:.3}', y=mean, linestyle='--')\n",
    "median = np.median(scores)\n",
    "plt.axhline( label=f'median {median:.3}', y=median, linestyle='--', color = 'black')\n",
    "plt.legend()"
   ]
  },
  {
   "cell_type": "code",
   "execution_count": 139,
   "metadata": {},
   "outputs": [
    {
     "name": "stdout",
     "output_type": "stream",
     "text": [
      "1.0\n"
     ]
    }
   ],
   "source": [
    "test_acc = accuracy_score(y_test, y_pred)\n",
    "\n",
    "print(test_acc)"
   ]
  },
  {
   "cell_type": "code",
   "execution_count": 59,
   "metadata": {},
   "outputs": [
    {
     "data": {
      "text/plain": [
       "array([0, 1, 0, 0, 0, 0, 0, 0, 0, 0, 0, 0, 0, 0, 0, 1, 0, 0, 0, 0, 0, 0,\n",
       "       0, 0, 0, 0, 0, 0, 0, 0, 0, 0, 0])"
      ]
     },
     "execution_count": 59,
     "metadata": {},
     "output_type": "execute_result"
    }
   ],
   "source": [
    "y_test"
   ]
  },
  {
   "cell_type": "markdown",
   "metadata": {},
   "source": [
    "## Regression"
   ]
  },
  {
   "cell_type": "code",
   "execution_count": 141,
   "metadata": {},
   "outputs": [],
   "source": [
    "y_data = price_usd\n",
    "X_train, X_test, y_train, y_test = train_test_split( \n",
    "    X_data, y_data,\n",
    "    random_state=random_seed)"
   ]
  },
  {
   "cell_type": "code",
   "execution_count": 144,
   "metadata": {},
   "outputs": [],
   "source": [
    "model = RandomForestRegressor(\n",
    "    n_estimators = 25,\n",
    "    random_state = random_seed\n",
    ")\n",
    "model.fit(X_train, y_train)\n",
    "y_pred = model.predict(X_test)"
   ]
  },
  {
   "cell_type": "code",
   "execution_count": 156,
   "metadata": {},
   "outputs": [],
   "source": [
    "model = GradientBoostingRegressor(\n",
    "    n_estimators = 25,\n",
    "    subsample=0.9,\n",
    "    random_state = random_seed\n",
    ")\n",
    "model.fit(X_train, y_train)\n",
    "y_pred = model.predict(X_test)"
   ]
  },
  {
   "cell_type": "code",
   "execution_count": 146,
   "metadata": {},
   "outputs": [
    {
     "data": {
      "text/plain": [
       "0.654873948546473"
      ]
     },
     "execution_count": 146,
     "metadata": {},
     "output_type": "execute_result"
    }
   ],
   "source": [
    "mean_squared_error(y_test,y_pred) ** 0.5"
   ]
  },
  {
   "cell_type": "code",
   "execution_count": 157,
   "metadata": {},
   "outputs": [
    {
     "data": {
      "text/plain": [
       "<matplotlib.legend.Legend at 0x15d7b1f09a0>"
      ]
     },
     "execution_count": 157,
     "metadata": {},
     "output_type": "execute_result"
    },
    {
     "data": {
      "image/png": "[encoded data removed]",
      "text/plain": [
       "<Figure size 432x288 with 1 Axes>"
      ]
     },
     "metadata": {
      "needs_background": "light"
     },
     "output_type": "display_data"
    }
   ],
   "source": [
    "mses = - cross_val_score(\n",
    "    estimator = model,\n",
    "    X = X_train,\n",
    "    y = y_train,\n",
    "    cv = 10,\n",
    "    scoring = 'neg_mean_squared_error'\n",
    ")\n",
    "\n",
    "\n",
    "plt.xlabel('Fold')\n",
    "plt.ylabel('MSE')\n",
    "plt.plot(mses, '.', label='mses', ms=10)\n",
    "mean = np.mean(mses)\n",
    "plt.axhline( label=f'mean {mean:.3}', y=mean, linestyle='--')\n",
    "median = np.median(mses)\n",
    "plt.axhline( label=f'median {median:.3}', y=median, linestyle='--', color = 'black')\n",
    "plt.legend()\n"
   ]
  },
  {
   "cell_type": "code",
   "execution_count": 151,
   "metadata": {},
   "outputs": [
    {
     "data": {
      "text/plain": [
       "<AxesSubplot:>"
      ]
     },
     "execution_count": 151,
     "metadata": {},
     "output_type": "execute_result"
    },
    {
     "data": {
      "image/png": "[encoded data removed]",
      "text/plain": [
       "<Figure size 1440x720 with 1 Axes>"
      ]
     },
     "metadata": {
      "needs_background": "light"
     },
     "output_type": "display_data"
    }
   ],
   "source": [
    "importances = pd.Series(\n",
    "    data = model.feature_importances_, \n",
    "    index = X_train.columns, \n",
    ")\n",
    "fig, ax = plt.subplots(figsize=(20,10))\n",
    "importances.sort_values().plot(\n",
    "    kind='barh',\n",
    "    ax=ax,\n",
    ")"
   ]
  },
  {
   "cell_type": "code",
   "execution_count": null,
   "metadata": {},
   "outputs": [],
   "source": []
  }
 ],
 "metadata": {
  "interpreter": {
   "hash": "36c0fa8133af55f162e3cf9b0d5dee072535ab8cae75d0ba8b2ab36791d89535"
  },
  "kernelspec": {
   "display_name": "Python 3.9.7 64-bit ('ml': conda)",
   "name": "python3"
  },
  "language_info": {
   "codemirror_mode": {
    "name": "ipython",
    "version": 3
   },
   "file_extension": ".py",
   "mimetype": "text/x-python",
   "name": "python",
   "nbconvert_exporter": "python",
   "pygments_lexer": "ipython3",
   "version": "3.9.7"
  },
  "orig_nbformat": 4
 },
 "nbformat": 4,
 "nbformat_minor": 2
}
